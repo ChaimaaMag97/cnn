{
 "cells": [
  {
   "cell_type": "code",
   "execution_count": 5,
   "metadata": {},
   "outputs": [],
   "source": [
    "from keras.models import Sequential\n",
    "from keras.layers import Convolution2D\n",
    "from keras.layers import MaxPooling2D\n",
    "from keras.layers import Flatten\n",
    "from keras.layers import Dense"
   ]
  },
  {
   "cell_type": "code",
   "execution_count": 25,
   "metadata": {},
   "outputs": [],
   "source": [
    "classifer=Sequential()"
   ]
  },
  {
   "cell_type": "code",
   "execution_count": 26,
   "metadata": {},
   "outputs": [],
   "source": [
    "classifer.add(Convolution2D(32,3,3,input_shape=(64,64,3),activation='relu'))"
   ]
  },
  {
   "cell_type": "code",
   "execution_count": 27,
   "metadata": {},
   "outputs": [],
   "source": [
    "classifer.add(MaxPooling2D(pool_size=(2,2)))"
   ]
  },
  {
   "cell_type": "code",
   "execution_count": 28,
   "metadata": {},
   "outputs": [],
   "source": [
    "classifer.add(Convolution2D(32,3,3,activation='relu'))\n",
    "classifer.add(MaxPooling2D(pool_size=(2,2)))"
   ]
  },
  {
   "cell_type": "code",
   "execution_count": 29,
   "metadata": {},
   "outputs": [],
   "source": [
    "classifer.add(Flatten())"
   ]
  },
  {
   "cell_type": "code",
   "execution_count": 30,
   "metadata": {},
   "outputs": [],
   "source": [
    "classifer.add(Dense(units=128,activation='relu'))"
   ]
  },
  {
   "cell_type": "code",
   "execution_count": 31,
   "metadata": {},
   "outputs": [],
   "source": [
    "classifer.add(Dense(units=1,activation='sigmoid'))"
   ]
  },
  {
   "cell_type": "code",
   "execution_count": 32,
   "metadata": {},
   "outputs": [],
   "source": [
    "classifer.compile(optimizer='adam',loss='binary_crossentropy',metrics='accuracy')"
   ]
  },
  {
   "cell_type": "code",
   "execution_count": 33,
   "metadata": {},
   "outputs": [],
   "source": [
    "from keras.preprocessing.image import ImageDataGenerator"
   ]
  },
  {
   "cell_type": "code",
   "execution_count": 34,
   "metadata": {},
   "outputs": [
    {
     "name": "stdout",
     "output_type": "stream",
     "text": [
      "Found 8000 images belonging to 2 classes.\n"
     ]
    }
   ],
   "source": [
    "train_datagen = ImageDataGenerator(\n",
    "        rescale=1./255,\n",
    "        shear_range=0.2,\n",
    "        zoom_range=0.2,\n",
    "        horizontal_flip=True)\n",
    "\n",
    "\n",
    "test_datagen = ImageDataGenerator(rescale=1./255)\n",
    "\n",
    "training_set = train_datagen.flow_from_directory( 'training_set',target_size=(64, 64),batch_size=32,class_mode='binary')\n",
    "\n"
   ]
  },
  {
   "cell_type": "code",
   "execution_count": 35,
   "metadata": {},
   "outputs": [
    {
     "name": "stdout",
     "output_type": "stream",
     "text": [
      "Found 2000 images belonging to 2 classes.\n",
      "Epoch 1/25\n",
      "200/200 [==============================] - ETA: 0s - loss: 0.6929 - accuracy: 0.5119WARNING:tensorflow:Your input ran out of data; interrupting training. Make sure that your dataset or generator can generate at least `steps_per_epoch * epochs` batches (in this case, 800 batches). You may need to use the repeat() function when building your dataset.\n",
      "200/200 [==============================] - 104s 520ms/step - loss: 0.6929 - accuracy: 0.5119 - val_loss: 0.6916 - val_accuracy: 0.5575\n",
      "Epoch 2/25\n",
      "200/200 [==============================] - 26s 128ms/step - loss: 0.6882 - accuracy: 0.5387\n",
      "Epoch 3/25\n",
      "200/200 [==============================] - 17s 84ms/step - loss: 0.6745 - accuracy: 0.5848\n",
      "Epoch 4/25\n",
      "200/200 [==============================] - 16s 78ms/step - loss: 0.6634 - accuracy: 0.5955\n",
      "Epoch 5/25\n",
      "200/200 [==============================] - 17s 86ms/step - loss: 0.6534 - accuracy: 0.6077\n",
      "Epoch 6/25\n",
      "200/200 [==============================] - 16s 81ms/step - loss: 0.6399 - accuracy: 0.6363\n",
      "Epoch 7/25\n",
      "200/200 [==============================] - 15s 76ms/step - loss: 0.6266 - accuracy: 0.6455\n",
      "Epoch 8/25\n",
      "200/200 [==============================] - 14s 72ms/step - loss: 0.6333 - accuracy: 0.6391\n",
      "Epoch 9/25\n",
      "200/200 [==============================] - 17s 87ms/step - loss: 0.6156 - accuracy: 0.6605\n",
      "Epoch 10/25\n",
      "200/200 [==============================] - 16s 81ms/step - loss: 0.6155 - accuracy: 0.6594\n",
      "Epoch 11/25\n",
      "200/200 [==============================] - 18s 89ms/step - loss: 0.6099 - accuracy: 0.6648\n",
      "Epoch 12/25\n",
      "200/200 [==============================] - 15s 73ms/step - loss: 0.6115 - accuracy: 0.6559\n",
      "Epoch 13/25\n",
      "200/200 [==============================] - 15s 75ms/step - loss: 0.6058 - accuracy: 0.6703\n",
      "Epoch 14/25\n",
      "200/200 [==============================] - 15s 73ms/step - loss: 0.6030 - accuracy: 0.6709\n",
      "Epoch 15/25\n",
      "200/200 [==============================] - 15s 74ms/step - loss: 0.5990 - accuracy: 0.6744\n",
      "Epoch 16/25\n",
      "200/200 [==============================] - 15s 75ms/step - loss: 0.5949 - accuracy: 0.6795\n",
      "Epoch 17/25\n",
      "200/200 [==============================] - 15s 74ms/step - loss: 0.5932 - accuracy: 0.6794\n",
      "Epoch 18/25\n",
      "200/200 [==============================] - 15s 74ms/step - loss: 0.5837 - accuracy: 0.6875\n",
      "Epoch 19/25\n",
      "200/200 [==============================] - 15s 74ms/step - loss: 0.5847 - accuracy: 0.6866\n",
      "Epoch 20/25\n",
      "200/200 [==============================] - 16s 81ms/step - loss: 0.5808 - accuracy: 0.6941\n",
      "Epoch 21/25\n",
      "200/200 [==============================] - 15s 76ms/step - loss: 0.5840 - accuracy: 0.6900\n",
      "Epoch 22/25\n",
      "200/200 [==============================] - 18s 91ms/step - loss: 0.5792 - accuracy: 0.6902\n",
      "Epoch 23/25\n",
      "200/200 [==============================] - 19s 96ms/step - loss: 0.5775 - accuracy: 0.6919\n",
      "Epoch 24/25\n",
      "200/200 [==============================] - 17s 87ms/step - loss: 0.5680 - accuracy: 0.6978\n",
      "Epoch 25/25\n",
      "200/200 [==============================] - 17s 83ms/step - loss: 0.5710 - accuracy: 0.7016\n"
     ]
    },
    {
     "data": {
      "text/plain": [
       "<tensorflow.python.keras.callbacks.History at 0x1be12093668>"
      ]
     },
     "execution_count": 35,
     "metadata": {},
     "output_type": "execute_result"
    }
   ],
   "source": [
    "test_set = test_datagen.flow_from_directory('test_set',target_size=(64, 64),batch_size=32,class_mode='binary')\n",
    "classifer.fit(training_set,steps_per_epoch=200,epochs=25,validation_data=test_set,validation_steps=800)"
   ]
  },
  {
   "cell_type": "code",
   "execution_count": null,
   "metadata": {},
   "outputs": [],
   "source": []
  }
 ],
 "metadata": {
  "kernelspec": {
   "display_name": "Python 3",
   "language": "python",
   "name": "python3"
  },
  "language_info": {
   "codemirror_mode": {
    "name": "ipython",
    "version": 3
   },
   "file_extension": ".py",
   "mimetype": "text/x-python",
   "name": "python",
   "nbconvert_exporter": "python",
   "pygments_lexer": "ipython3",
   "version": "3.6.10"
  }
 },
 "nbformat": 4,
 "nbformat_minor": 4
}
